{
 "cells": [
  {
   "cell_type": "markdown",
   "metadata": {},
   "source": [
    "## L1：求1+3+5+7+...+99的和"
   ]
  },
  {
   "cell_type": "code",
   "execution_count": 1,
   "metadata": {},
   "outputs": [
    {
     "name": "stdout",
     "output_type": "stream",
     "text": [
      "2500\n"
     ]
    }
   ],
   "source": [
    "def sumall(n):\n",
    "    a = []\n",
    "    for i in range(n+1):\n",
    "        while i%2 !=0:\n",
    "            a.append(i)\n",
    "            break\n",
    "    return print(sum(a))\n",
    "if __name__ == '__main__':\n",
    "    sumall(99)"
   ]
  },
  {
   "cell_type": "markdown",
   "metadata": {},
   "source": [
    "## L2： 互补DNA"
   ]
  },
  {
   "cell_type": "code",
   "execution_count": 41,
   "metadata": {},
   "outputs": [
    {
     "name": "stdout",
     "output_type": "stream",
     "text": [
      "['T', 'A', 'A', 'C', 'G']\n",
      "['T', 'T', 'T', 'T']\n",
      "not DNA \n"
     ]
    }
   ],
   "source": [
    "def DNA_strand(dna):\n",
    "    dna_dict = {'A': 'T', 'T': 'A', 'C': 'G', 'G': 'C'}\n",
    "    DNA = list(dna)\n",
    "    i = 0\n",
    "    for c in DNA:\n",
    "        if c in dna_dict:\n",
    "            for a,b in dna_dict.items():\n",
    "                if a == c:\n",
    "                    DNA[i]=b\n",
    "                    i+=1\n",
    "        else :\n",
    "            return 'not DNA '         \n",
    "    return DNA\n",
    "if __name__ == '__main__':\n",
    "    print(DNA_strand('ATTGC'))\n",
    "    print(DNA_strand('AAAA'))\n",
    "    print(DNA_strand('AAAb'))"
   ]
  },
  {
   "cell_type": "markdown",
   "metadata": {},
   "source": [
    "## L3:统计重复字符串的个数"
   ]
  },
  {
   "cell_type": "code",
   "execution_count": 36,
   "metadata": {},
   "outputs": [
    {
     "name": "stdout",
     "output_type": "stream",
     "text": [
      "0\n",
      "2\n",
      "1\n"
     ]
    }
   ],
   "source": [
    "def duplicate_count(text):\n",
    "    a = list(str.lower(text))\n",
    "    d = a.copy()\n",
    "    b = 0\n",
    "    for i in range(len(d)):\n",
    "        c = d[i]\n",
    "        try:\n",
    "            a.remove(c)\n",
    "        except:\n",
    "            pass\n",
    "        if c in a:\n",
    "            b+=1\n",
    "            while c in a:\n",
    "                a.remove(c)\n",
    "    return b\n",
    "if __name__ == '__main__':\n",
    "    print(duplicate_count('abcde'))\n",
    "    print(duplicate_count('aabBcde'))\n",
    "    print(duplicate_count('indivisibility'))"
   ]
  },
  {
   "cell_type": "markdown",
   "metadata": {},
   "source": [
    "## L4：广义斐波那契数列"
   ]
  },
  {
   "cell_type": "code",
   "execution_count": 3,
   "metadata": {},
   "outputs": [
    {
     "name": "stdout",
     "output_type": "stream",
     "text": [
      "[1, 1, 1, 3, 5, 9, 17, 31, 57, 105]\n",
      "[]\n",
      "[0.5, 0.5, 0.5, 1.5, 2.5, 4.5, 8.5, 15.5, 28.5, 52.5, 96.5, 177.5, 326.5, 600.5, 1104.5, 2031.5, 3736.5, 6872.5, 12640.5, 23249.5, 42762.5, 78652.5, 144664.5, 266079.5, 489396.5, 900140.5, 1655616.5, 3045153.5, 5600910.5, 10301680.5]\n"
     ]
    }
   ],
   "source": [
    "def tribonacci(signature,n):\n",
    "    b = []\n",
    "    if  0 < n < 4:\n",
    "        for i in range(n):\n",
    "            b.append(signature[i])\n",
    "        return b\n",
    "    elif n == 0:\n",
    "        return b\n",
    "    else:\n",
    "        b += signature\n",
    "        for i in range(n-3):\n",
    "            b.append(b[-1]+b[-2]+b[-3])\n",
    "        return b\n",
    "    \n",
    "if __name__ == '__main__':\n",
    "    print(tribonacci([1,1,1],10))\n",
    "    print(tribonacci([300,200,100],0))\n",
    "    print(tribonacci([0.5,0.5,0.5],30))"
   ]
  },
  {
   "cell_type": "markdown",
   "metadata": {},
   "source": [
    "## L5: 求数字内相乘的次数"
   ]
  },
  {
   "cell_type": "code",
   "execution_count": 11,
   "metadata": {},
   "outputs": [
    {
     "name": "stdout",
     "output_type": "stream",
     "text": [
      "3\n",
      "4\n",
      "0\n",
      "2\n"
     ]
    }
   ],
   "source": [
    "from functools import reduce\n",
    "def persistence(n):\n",
    "    count = 0\n",
    "    while n//10:\n",
    "        n = reduce(lambda x,y : x*y, [int(i) for i in list(str(n))])\n",
    "        count += 1\n",
    "    return count\n",
    "\n",
    "if __name__ == '__main__':\n",
    "    print(persistence(39))\n",
    "    print(persistence(999))\n",
    "    print(persistence(4))\n",
    "    print(persistence(25))"
   ]
  },
  {
   "cell_type": "markdown",
   "metadata": {},
   "source": [
    "## L6：队列中的移动平均值"
   ]
  },
  {
   "cell_type": "code",
   "execution_count": 59,
   "metadata": {},
   "outputs": [
    {
     "name": "stdout",
     "output_type": "stream",
     "text": [
      "1.0\n",
      "5.5\n",
      "5.333333333333333\n",
      "7.0\n"
     ]
    }
   ],
   "source": [
    "class MovingAverage:\n",
    "    def __init__(self,size):\n",
    "        self.size = size\n",
    "        self.a = []\n",
    "        \n",
    "    def next(self, val):\n",
    "        self.a.append(val)\n",
    "        if len(self.a) < self.size:\n",
    "            return print(sum(self.a)/len(self.a))\n",
    "        else:\n",
    "            return print(sum(self.a[len(self.a)-3:])/self.size)\n",
    "            \n",
    "        \n",
    "        \n",
    "if __name__ == '__main__':\n",
    "    m = MovingAverage(3)\n",
    "    m.next(1)\n",
    "    m.next(10)\n",
    "    m.next(5)\n",
    "    m.next(6)"
   ]
  },
  {
   "cell_type": "markdown",
   "metadata": {},
   "source": [
    "## L7:买卖股票的最佳时机"
   ]
  },
  {
   "cell_type": "code",
   "execution_count": 61,
   "metadata": {},
   "outputs": [
    {
     "name": "stdout",
     "output_type": "stream",
     "text": [
      "5\n",
      "0\n"
     ]
    }
   ],
   "source": [
    "def maxProfit(prices: List[int]) -> int:\n",
    "    result = []\n",
    "    while True:\n",
    "        if prices == []:\n",
    "            if result == []:\n",
    "                return 0\n",
    "            else:\n",
    "                return max(result)\n",
    "        min_num = prices[0]\n",
    "        min_id = 0\n",
    "        for n, i in enumerate(prices):\n",
    "            if min_num > i:\n",
    "                min_num = i\n",
    "                min_id = n\n",
    "        max_num = prices[min_id]\n",
    "        for x in prices[min_id:]:\n",
    "            if max_num < x:\n",
    "                max_num = x\n",
    "        result.append(max_num - min_num)\n",
    "        prices.remove(prices[min_id])\n",
    "    \n",
    "if __name__ == '__main__':\n",
    "    maxProfit([7,1,5,3,6,4])\n",
    "    maxProfit([7,6,4,3,1])"
   ]
  },
  {
   "cell_type": "markdown",
   "metadata": {},
   "source": [
    "## L8: 优惠券兑换"
   ]
  },
  {
   "cell_type": "code",
   "execution_count": null,
   "metadata": {},
   "outputs": [],
   "source": [
    "def check_coupon(entered_code,correct_code,current_date,expiration_date):\n",
    "    \n",
    "    \n",
    "    \n",
    "if __name__ == '__main__':\n",
    "    check_coupon('123','123','September 5, 2014','October 1, 2014')\n",
    "    check_coupon('123a','123','September 5, 2014','October 1, 2014')\n",
    "    check_coupon('123','123','July 5, 2015','July 2, 2015') "
   ]
  },
  {
   "cell_type": "markdown",
   "metadata": {},
   "source": [
    "## L9:排列组合"
   ]
  },
  {
   "cell_type": "code",
   "execution_count": 75,
   "metadata": {},
   "outputs": [
    {
     "name": "stdout",
     "output_type": "stream",
     "text": [
      "{'a'}\n",
      "{'ab', 'ba'}\n",
      "{'aabb', 'baba', 'abba', 'abab', 'baab', 'bbaa'}\n"
     ]
    }
   ],
   "source": [
    "from functools import reduce\n",
    "\n",
    "def permutations(string):\n",
    "    a = list(string)\n",
    "    b = set()\n",
    "    \n",
    "    if len(a) <= 1:\n",
    "        b.add(string)\n",
    "        return print(b)\n",
    "    \n",
    "    for n in range(len(a)):\n",
    "        for i in range(len(a)-1):            \n",
    "            a[i], a[i+1] = a[i+1], a[i]\n",
    "            b.add(reduce(lambda x,y :x+y,a))\n",
    "\n",
    "    return print(b)\n",
    "        \n",
    "            \n",
    "    \n",
    "if __name__ == '__main__':\n",
    "    \n",
    "    permutations('a')\n",
    "    permutations('ab')\n",
    "    permutations('aabb')"
   ]
  },
  {
   "cell_type": "markdown",
   "metadata": {},
   "source": [
    "## L10:数字的英文字母排序"
   ]
  },
  {
   "cell_type": "code",
   "execution_count": 1,
   "metadata": {},
   "outputs": [
    {
     "name": "stdout",
     "output_type": "stream",
     "text": [
      "[8, 9, 10]\n",
      "[4, 1, 3, 2]\n",
      "[9, 999, 99]\n"
     ]
    }
   ],
   "source": [
    "import numpy as np\n",
    "\n",
    "def fit_transform(num):\n",
    "    '''\n",
    "    数字格式化英文\n",
    "    '''\n",
    "    _str = ''\n",
    "    \n",
    "    num_constant = {1: 'one', 2: 'two', 3: 'three', 4: 'four', 5: 'five', 6: 'six', 7: 'seven', 8: 'eight', 9: 'nine', 10: 'ten', 11: 'eleven', 12: 'twelve', 13: 'thirteen', 14: 'fourteen', 15: 'fifteen', 16: 'sixteen', 17: 'seventeen', 18: 'eighteen', 19: 'nineteen'}\n",
    "    In_hundray_constant = {2: 'twenty', 3: 'thirty', 4: 'forty', 5: 'fifty', 6: 'sixty', 7: 'seventy', 8: 'eighty', 9: 'ninety'}\n",
    "    \n",
    "    if num < 20:\n",
    "        _str += num_constant.get(num)\n",
    "    elif 20 < num <100 :\n",
    "        _str += In_hundray_constant.get(num//10) + '-' + num_constant.get(num%10)\n",
    "    else :\n",
    "        _str += num_constant.get(num//100) + ' hundray and ' +  In_hundray_constant.get(num%100//10) + '-' + num_constant.get(num%10)\n",
    "    \n",
    "    return _str\n",
    "    \n",
    "def sort_by_name(arr):\n",
    "    num_eng = list(map(fit_transform, arr))\n",
    "    num_dict = dict(zip(arr,num_eng))\n",
    "    b = sorted(num_dict.items(), key=lambda x : x[1])\n",
    "    return print([i[0] for i in b])\n",
    "    \n",
    "     \n",
    "if __name__ == '__main__':\n",
    "    sort_by_name([8,8,9,9,10,10])\n",
    "    sort_by_name([1,2,3,4])\n",
    "    sort_by_name([9,99,999])"
   ]
  },
  {
   "cell_type": "markdown",
   "metadata": {},
   "source": [
    "## L:11宝石还是石头"
   ]
  },
  {
   "cell_type": "code",
   "execution_count": 2,
   "metadata": {},
   "outputs": [
    {
     "name": "stdout",
     "output_type": "stream",
     "text": [
      "3\n",
      "0\n"
     ]
    }
   ],
   "source": [
    "import re\n",
    "\n",
    "def numJewelsInstones(J,S):\n",
    "    a = re.findall(re.compile(r'[' + J + ']'), S)\n",
    "    \n",
    "    return len(a)\n",
    "    \n",
    "if __name__ == '__main__':\n",
    "    J = 'aA'\n",
    "    S = 'aAAbbbb'\n",
    "    print(numJewelsInstones(J,S))\n",
    "    J = 'z'\n",
    "    S = 'ZZ'\n",
    "    print(numJewelsInstones(J,S))"
   ]
  },
  {
   "cell_type": "markdown",
   "metadata": {},
   "source": [
    "## L12:最长回文子串"
   ]
  },
  {
   "cell_type": "code",
   "execution_count": null,
   "metadata": {},
   "outputs": [],
   "source": []
  },
  {
   "cell_type": "markdown",
   "metadata": {},
   "source": [
    "## L13:求带插入的位置"
   ]
  },
  {
   "cell_type": "code",
   "execution_count": 3,
   "metadata": {},
   "outputs": [
    {
     "name": "stdout",
     "output_type": "stream",
     "text": [
      "2\n",
      "1\n",
      "4\n",
      "0\n"
     ]
    }
   ],
   "source": [
    "def searchInsert(nums,target):\n",
    "    \n",
    "    if max(nums) < target:\n",
    "        \n",
    "        return len(nums)\n",
    "    \n",
    "    elif min(nums) > target:\n",
    "        return 0\n",
    "    \n",
    "    else:\n",
    "        for n,i in enumerate(nums):\n",
    "            if i >= target:\n",
    "                return n\n",
    "    \n",
    "    \n",
    "    \n",
    "if __name__ == '__main__':\n",
    "    nums = [1,3,5,6]\n",
    "    target = 5\n",
    "    print(searchInsert(nums,target))\n",
    "    nums = [1,3,5,6]\n",
    "    target = 2\n",
    "    print(searchInsert(nums,target))\n",
    "    nums = [1,3,5,6]\n",
    "    target = 7\n",
    "    print(searchInsert(nums,target))\n",
    "    nums = [1,3,5,6]\n",
    "    target = 0\n",
    "    print(searchInsert(nums,target))\n",
    "    "
   ]
  },
  {
   "cell_type": "markdown",
   "metadata": {},
   "source": [
    "## L14 猜数字"
   ]
  },
  {
   "cell_type": "code",
   "execution_count": 4,
   "metadata": {},
   "outputs": [
    {
     "name": "stdout",
     "output_type": "stream",
     "text": [
      "猜猜1~100的整数100\n",
      "太大了！50\n",
      "太大了！25\n",
      "太小了！30\n",
      "太大了！23\n",
      "太小了！24\n",
      "太小了！25\n",
      "太小了！26\n",
      "猜中了！\n"
     ]
    }
   ],
   "source": [
    "import random\n",
    "\n",
    "def numberguess():\n",
    "    num = random.randint(1,101)\n",
    "    guess = int(input('猜猜1~100的整数'))\n",
    "    while True:\n",
    "        if guess > num:\n",
    "            guess = int(input('太大了！'))\n",
    "            \n",
    "        elif guess < num:\n",
    "            guess = int(input('太小了！'))\n",
    "            \n",
    "        else :\n",
    "            print('猜中了！')\n",
    "            break\n",
    "            \n",
    "if __name__ == '__main__':\n",
    "        numberguess()"
   ]
  },
  {
   "cell_type": "code",
   "execution_count": null,
   "metadata": {},
   "outputs": [],
   "source": []
  }
 ],
 "metadata": {
  "kernelspec": {
   "display_name": "Python 3",
   "language": "python",
   "name": "python3"
  },
  "language_info": {
   "codemirror_mode": {
    "name": "ipython",
    "version": 3
   },
   "file_extension": ".py",
   "mimetype": "text/x-python",
   "name": "python",
   "nbconvert_exporter": "python",
   "pygments_lexer": "ipython3",
   "version": "3.7.4"
  }
 },
 "nbformat": 4,
 "nbformat_minor": 2
}
